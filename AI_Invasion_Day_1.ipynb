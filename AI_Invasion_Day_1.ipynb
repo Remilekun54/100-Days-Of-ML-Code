{
  "nbformat": 4,
  "nbformat_minor": 0,
  "metadata": {
    "colab": {
      "name": "AI Invasion - Day 1.ipynb",
      "provenance": [],
      "include_colab_link": true
    },
    "kernelspec": {
      "name": "python3",
      "display_name": "Python 3"
    },
    "language_info": {
      "name": "python"
    }
  },
  "cells": [
    {
      "cell_type": "markdown",
      "metadata": {
        "id": "view-in-github",
        "colab_type": "text"
      },
      "source": [
        "<a href=\"https://colab.research.google.com/github/Remilekun54/100-Days-Of-ML-Code/blob/master/AI_Invasion_Day_1.ipynb\" target=\"_parent\"><img src=\"https://colab.research.google.com/assets/colab-badge.svg\" alt=\"Open In Colab\"/></a>"
      ]
    },
    {
      "cell_type": "markdown",
      "source": [
        "## Data types in python"
      ],
      "metadata": {
        "id": "60YmhgfTJ7Ig"
      }
    },
    {
      "cell_type": "code",
      "source": [
        "# Integer\n",
        "number = 20\n",
        "result = number / 2\n",
        "print(result)"
      ],
      "metadata": {
        "colab": {
          "base_uri": "https://localhost:8080/"
        },
        "id": "it1b8MNZ3WwD",
        "outputId": "b52bd160-8e5a-4e6a-92c8-eeea4e7c0a3d"
      },
      "execution_count": null,
      "outputs": [
        {
          "output_type": "stream",
          "name": "stdout",
          "text": [
            "10.0\n"
          ]
        }
      ]
    },
    {
      "cell_type": "code",
      "source": [
        "# String\n",
        "sentence_one = \"Raising 1 million AI talents\"\n",
        "sentence_two = \"and building AI solutions to enhance the quality of lives of 2 billion people in emerging market\"\n",
        "print(sentence_one, sentence_two, sep=\" \")"
      ],
      "metadata": {
        "colab": {
          "base_uri": "https://localhost:8080/"
        },
        "id": "ohravkbE3jfw",
        "outputId": "1b520bbb-4696-43ce-ae21-66255117ed6d"
      },
      "execution_count": null,
      "outputs": [
        {
          "output_type": "stream",
          "name": "stdout",
          "text": [
            "Raising 1 million AI talents and building AI solutions to enhance the quality of lives of 2 billion people in emerging market\n"
          ]
        }
      ]
    },
    {
      "cell_type": "code",
      "source": [
        "# Float\n",
        "decimal_number = 3.14\n",
        "radius = 2.4\n",
        "Area_of_circle = decimal_number * (2.4 **2)\n",
        "print(Area_of_circle)"
      ],
      "metadata": {
        "colab": {
          "base_uri": "https://localhost:8080/"
        },
        "id": "PP5dgjVQ5HyV",
        "outputId": "3103edc1-89ca-4d9c-9230-1a040c8db549"
      },
      "execution_count": null,
      "outputs": [
        {
          "output_type": "stream",
          "name": "stdout",
          "text": [
            "18.0864\n"
          ]
        }
      ]
    },
    {
      "cell_type": "code",
      "source": [
        "# List\n",
        "names = [\"Tolu\", \"Uche\", \"Musa\"]\n",
        "names.append(\"John\")\n",
        "print(names)"
      ],
      "metadata": {
        "colab": {
          "base_uri": "https://localhost:8080/"
        },
        "id": "C7Ozcsou50fi",
        "outputId": "cdc6acea-ce45-4453-c8da-ef984428188a"
      },
      "execution_count": null,
      "outputs": [
        {
          "output_type": "stream",
          "name": "stdout",
          "text": [
            "['Tolu', 'Uche', 'Musa', 'John']\n"
          ]
        }
      ]
    },
    {
      "cell_type": "code",
      "source": [
        "# Tuple\n",
        "names_tuple = (\"Tolu\", \"Musa\", \"Tolu\")\n",
        "print(names_tuple)"
      ],
      "metadata": {
        "colab": {
          "base_uri": "https://localhost:8080/"
        },
        "id": "3oWglYuc6O-5",
        "outputId": "df2622c4-ad57-42bd-a6dc-09368cbda5c7"
      },
      "execution_count": null,
      "outputs": [
        {
          "output_type": "stream",
          "name": "stdout",
          "text": [
            "('Tolu', 'Musa', 'Tolu')\n"
          ]
        }
      ]
    },
    {
      "cell_type": "code",
      "source": [
        "# Set\n",
        "names_set = {\"Ade\", \"Bayo\", \"Ali\", \"Ngozi\"}\n",
        "names_set.add(\"Baki\")\n",
        "names_set.add(\"Ade\")\n",
        "print(names_set)"
      ],
      "metadata": {
        "colab": {
          "base_uri": "https://localhost:8080/"
        },
        "id": "quGY1JFO6n6u",
        "outputId": "71134fce-6ddd-46f4-8db5-55d051085add"
      },
      "execution_count": null,
      "outputs": [
        {
          "output_type": "stream",
          "name": "stdout",
          "text": [
            "{'Ngozi', 'Baki', 'Ali', 'Ade', 'Bayo'}\n"
          ]
        }
      ]
    },
    {
      "cell_type": "code",
      "source": [
        "# If Statement\n",
        "# if expression:\n",
        "#    Statement\n",
        "\n",
        "age = 20\n",
        "if age > 10:\n",
        "  print(f\"His age is {age}\")"
      ],
      "metadata": {
        "colab": {
          "base_uri": "https://localhost:8080/"
        },
        "id": "OaskLrri7TmK",
        "outputId": "dfdb153d-56df-4d47-f4b2-d2814c2e186c"
      },
      "execution_count": null,
      "outputs": [
        {
          "output_type": "stream",
          "name": "stdout",
          "text": [
            "His age is 20\n"
          ]
        }
      ]
    },
    {
      "cell_type": "markdown",
      "source": [
        "## Conditional Statement"
      ],
      "metadata": {
        "id": "ZpLh8Ca1KEM3"
      }
    },
    {
      "cell_type": "code",
      "source": [
        "# If else Statement\n",
        "# if condition :\n",
        "#    Will executes this block if the condition is true\n",
        "# else :\n",
        "#    Will executes this block if the condition is false\n",
        "\n",
        "age = 20\n",
        "if age > 10:\n",
        "  print(f\"His age is {age}\")\n",
        "else:\n",
        "  print(\"He too young to play football\")\n",
        "\n",
        "# you can change the value of age\n",
        "# and see what happends"
      ],
      "metadata": {
        "colab": {
          "base_uri": "https://localhost:8080/"
        },
        "id": "UwQZo1xy8DEl",
        "outputId": "c9d61d14-e710-41ce-82b7-d1c386ecb7e6"
      },
      "execution_count": null,
      "outputs": [
        {
          "output_type": "stream",
          "name": "stdout",
          "text": [
            "His age is 20\n"
          ]
        }
      ]
    },
    {
      "cell_type": "markdown",
      "source": [
        "## Fuction"
      ],
      "metadata": {
        "id": "A241BhqBKJ90"
      }
    },
    {
      "cell_type": "code",
      "source": [
        "# function\n",
        "# create a functions named \"count_letters\" \n",
        "# that count number of letters in a string\n",
        "def count_letters(word):\n",
        "  counter = len(word)\n",
        "  return counter\n",
        "\n",
        "print(count_letters(\"Simi\"))"
      ],
      "metadata": {
        "colab": {
          "base_uri": "https://localhost:8080/"
        },
        "id": "DQ6UhH5P8ozL",
        "outputId": "fb87f834-4a65-4f2b-f18e-876a6cbbc4d7"
      },
      "execution_count": null,
      "outputs": [
        {
          "output_type": "stream",
          "name": "stdout",
          "text": [
            "4\n"
          ]
        }
      ]
    },
    {
      "cell_type": "code",
      "source": [
        ""
      ],
      "metadata": {
        "id": "BTCVFa109_hO"
      },
      "execution_count": null,
      "outputs": []
    }
  ]
}